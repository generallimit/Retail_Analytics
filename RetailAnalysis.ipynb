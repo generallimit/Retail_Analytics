{
 "cells": [
  {
   "cell_type": "markdown",
   "id": "2eef58de-f3ba-45af-8859-7cf2c2e3d264",
   "metadata": {},
   "source": [
    "# Online Retail Data Analysis\n",
    "\n",
    "## Introduction\n",
    "This project focuses on analyzing online retail data to extract insights about customer behavior, product performance, and sales trends. We will leverage data analytics and machine learning techniques to explore the dataset and uncover key patterns.\n"
   ]
  },
  {
   "cell_type": "code",
   "execution_count": null,
   "id": "7c52da46-bb9e-444d-930f-3d75ec25248f",
   "metadata": {},
   "outputs": [],
   "source": [
    "!source ~/Documents/projects/Retail_Analytics/.venv/bin/activate"
   ]
  },
  {
   "cell_type": "code",
   "execution_count": null,
   "id": "7d7693ef-f674-4078-b7d8-5f8f344f1720",
   "metadata": {},
   "outputs": [],
   "source": [
    "import sys\n",
    "print(sys.executable)"
   ]
  },
  {
   "cell_type": "code",
   "execution_count": null,
   "id": "b58b5d1d-47f1-4eef-bed7-37624833137c",
   "metadata": {},
   "outputs": [],
   "source": [
    "import pandas as pd\n",
    "import matplotlib.pyplot as plt\n",
    "import seaborn as sns\n",
    "import pyodbc\n",
    "import json\n",
    "import glob\n",
    "import os\n",
    "from sklearn.cluster import KMeans\n",
    "from sklearn.metrics import silhouette_score\n",
    "from sklearn.preprocessing import StandardScaler\n",
    "\n",
    "# Setting to make numbers easier to read on display\n",
    "pd.options.display.float_format = '{:20.2f}'.format  #info: Format floats to show 2 decimal places for better readability\n",
    "\n",
    "# Show all columns on output\n",
    "pd.set_option('display.max_columns', 999)  #info: Display all columns in DataFrame outputs for visibility\n"
   ]
  },
  {
   "cell_type": "markdown",
   "id": "1a2c0a00-4996-4f82-94c4-f49b364a6b03",
   "metadata": {},
   "source": [
    "# Data Exploration"
   ]
  },
  {
   "cell_type": "raw",
   "id": "3dc4a4c4-7467-439d-8424-64a81d3fb1d7",
   "metadata": {},
   "source": [
    "config = '/config.json'\n",
    "with open(config, 'r') as f:\n",
    "    config = json.load(f)"
   ]
  },
  {
   "cell_type": "raw",
   "id": "3e505097-aeaf-4ea1-aabc-748ef809523b",
   "metadata": {},
   "source": [
    "config"
   ]
  },
  {
   "cell_type": "raw",
   "id": "579b3809-f849-4571-8126-e004346dc222",
   "metadata": {},
   "source": [
    "DNS = config['Servers']['SQLServer']['DNS']\n",
    "Host = config['Servers']['SQLServer']['Host']\n",
    "Port = config['Servers']['SQLServer']['Port']\n",
    "DB = config['Servers']['SQLServer']['DB']\n",
    "UID = config['Servers']['SQLServer']['UID']\n",
    "PWD = config['Servers']['SQLServer']['PWD']"
   ]
  },
  {
   "cell_type": "raw",
   "id": "cac8a358-2e51-4c34-8e06-83faf7f5ea10",
   "metadata": {},
   "source": [
    "import sqlalchemy as sa\n",
    "from sqlalchemy import create_engine\n",
    "import urllib\n",
    "import pyodbc\n",
    " \n",
    "conn = urllib.parse.quote_plus(\n",
    "    'Data Source Name=SQL2014;'\n",
    "    'Driver={SQL Server};'\n",
    "    'Server='+Host+';'\n",
    "    'Database='+DB+';'\n",
    "    'Trusted_connection=yes;'\n",
    ")\n",
    " \n",
    "try:\n",
    "    \n",
    "    coxn = create_engine('mssql+pyodbc:///?odbc_connect={}'.format(conn))\n",
    "    print(\"Passed\")\n",
    " \n",
    "except:\n",
    "    print(\"failed!\")"
   ]
  },
  {
   "cell_type": "raw",
   "id": "4f8771fc-8d73-43f7-97fa-7e55545d3aa9",
   "metadata": {},
   "source": [
    "conn = pyodbc.connect( 'Driver={'+DNS+'};\\\n",
    "                        Server='+Host+':'+str(Port)+';\\\n",
    "                        Database='+DB+';\\\n",
    "                        UID='+UID+';\\\n",
    "                        PWD='+PWD+';'\\\n",
    "                     )"
   ]
  },
  {
   "cell_type": "raw",
   "id": "d64c539f-b274-4301-8277-85c8839e24b1",
   "metadata": {},
   "source": [
    "cursor = conn.cursor()"
   ]
  },
  {
   "cell_type": "raw",
   "id": "fbb5141a-8fc3-4afe-93dd-e570390c4036",
   "metadata": {},
   "source": [
    "query = \"SELECT * FROM employees\"\n",
    "cursor.execute(query)"
   ]
  },
  {
   "cell_type": "code",
   "execution_count": null,
   "id": "9cc1c1fa-cb86-44d8-8d12-0ef3d1557ccc",
   "metadata": {},
   "outputs": [],
   "source": [
    "# df = pd.read_csv(\"/home/jefferyp/Documents/projects/sales_2024-Q4.csv\")\n",
    "filepath = '../projects/sales/sales'\n",
    "all_files = glob.glob(os.path.join(filepath, \"*.csv\"))\n",
    "\n",
    "df = pd.concat((pd.read_csv(f) for f in all_files), ignore_index=True)"
   ]
  },
  {
   "cell_type": "code",
   "execution_count": null,
   "id": "1a202460-6396-43ee-93cf-669eb3b22736",
   "metadata": {},
   "outputs": [],
   "source": [
    "df = df.rename(columns={'Product variant SKU at time of sale':'SKU'})"
   ]
  },
  {
   "cell_type": "code",
   "execution_count": null,
   "id": "3e91d0ad-b2ec-4c87-8f72-7528833eaa36",
   "metadata": {},
   "outputs": [],
   "source": [
    "df.head(5)"
   ]
  },
  {
   "cell_type": "code",
   "execution_count": null,
   "id": "d39c6a21-64bb-4c9c-ac3f-39a1b66d8b13",
   "metadata": {
    "scrolled": true
   },
   "outputs": [],
   "source": [
    "df.info()"
   ]
  },
  {
   "cell_type": "code",
   "execution_count": null,
   "id": "12e59cf0-5abe-486c-a7fa-fad13f5a0f13",
   "metadata": {},
   "outputs": [],
   "source": [
    "# drop rows with missing values (or use df.fillna(value) to fill)\n",
    "# df = df.dropna()  # caution: this drops all rows with any missing value\n",
    "df = df.loc[df['Customer ID'] != 0]"
   ]
  },
  {
   "cell_type": "code",
   "execution_count": null,
   "id": "96b5fd08-8a84-4622-ab4f-64caeee76a8d",
   "metadata": {},
   "outputs": [],
   "source": [
    "df.describe()"
   ]
  },
  {
   "cell_type": "markdown",
   "id": "f5cb21f6-92e4-4d1f-a383-eba34644c893",
   "metadata": {},
   "source": [
    "# Data Cleaning"
   ]
  },
  {
   "cell_type": "code",
   "execution_count": null,
   "id": "18221ac8-f921-4f97-80ca-65d88521c3ef",
   "metadata": {},
   "outputs": [],
   "source": [
    "# check for missing values\n",
    "missing_values = df.isnull().sum()\n",
    "no_customerID = df.where(df['Customer ID']=='0').count()\n",
    "print(\"Zero CustID:\\n\", no_customerID)\n",
    "print(\"Missing values:\\n\", missing_values)"
   ]
  },
  {
   "cell_type": "code",
   "execution_count": null,
   "id": "e5f4e5d1-18f6-4b35-804c-87de3f3eed65",
   "metadata": {},
   "outputs": [],
   "source": [
    "# Description and Customer ID have huge number of null value"
   ]
  },
  {
   "cell_type": "code",
   "execution_count": null,
   "id": "1cd54512-dca0-4979-9655-db11ad02a200",
   "metadata": {},
   "outputs": [],
   "source": [
    "# check for duplicates\n",
    "duplicates = df.duplicated().sum()\n",
    "print(\"Number of duplicate rows:\", duplicates)\n",
    "\n",
    "# remove duplicates\n",
    "# df = df.drop_duplicates()"
   ]
  },
  {
   "cell_type": "code",
   "execution_count": null,
   "id": "da005e67-283b-45cc-9e28-20932ce39702",
   "metadata": {},
   "outputs": [],
   "source": [
    "# convert 'InvoiceDate' to datetime\n",
    "df['Day'] = pd.to_datetime(df['Day'])"
   ]
  },
  {
   "cell_type": "markdown",
   "id": "098e2c42-e018-4865-953b-494fd2575927",
   "metadata": {},
   "source": [
    "# Exploratory Analysis"
   ]
  },
  {
   "cell_type": "code",
   "execution_count": null,
   "id": "4fda8acf-6663-4f1d-b998-e99011ff6eaa",
   "metadata": {},
   "outputs": [],
   "source": [
    "# descriptive statistics\n",
    "print(df.describe(include='all'))  # include='all' shows stats for categorical columns too"
   ]
  },
  {
   "cell_type": "markdown",
   "id": "617aa8d6-2cc4-40c3-8cdd-876d71f4ebf7",
   "metadata": {},
   "source": [
    "# Distribution of Quantities"
   ]
  },
  {
   "cell_type": "code",
   "execution_count": null,
   "id": "72d71def-25a3-4100-a445-ae147e1cfa6f",
   "metadata": {},
   "outputs": [],
   "source": [
    "plt.figure(figsize=(10, 5))\n",
    "sns.histplot(df['Quantity ordered'], bins=30, kde=True)\n",
    "plt.title('Quantity Distribution')\n",
    "plt.xlabel('Quantity ordered')\n",
    "plt.ylabel('Frequency')\n",
    "plt.show()"
   ]
  },
  {
   "cell_type": "markdown",
   "id": "b514018b-379e-4664-afd2-b9390a7a4eec",
   "metadata": {},
   "source": [
    "# Total Sales Over Time:"
   ]
  },
  {
   "cell_type": "code",
   "execution_count": null,
   "id": "87b33bd4-1fdd-4475-bf77-4307e39e96dc",
   "metadata": {},
   "outputs": [],
   "source": [
    "sales_over_time = df.groupby(df['Day'].dt.date)['Gross sales'].sum()\n",
    "plt.figure(figsize=(12, 6))\n",
    "sales_over_time.plot()\n",
    "plt.title('Total Sales Over Time')\n",
    "plt.xlabel('Date')\n",
    "plt.ylabel('Total Sales')\n",
    "plt.xticks(rotation=45)\n",
    "plt.show()\n"
   ]
  },
  {
   "cell_type": "markdown",
   "id": "61880ad0-f069-4b9a-918f-ae0b7623a917",
   "metadata": {},
   "source": [
    "# Sales By State "
   ]
  },
  {
   "cell_type": "code",
   "execution_count": null,
   "id": "88d62475-6ffe-4756-9d60-7c7f39b9d86a",
   "metadata": {},
   "outputs": [],
   "source": [
    "sales_by_country = df.groupby('Billing region')['Gross sales'].sum().sort_values(ascending=False)\n",
    "plt.figure(figsize=(12, 6))\n",
    "sales_by_country.head(10).plot(kind='bar', color='skyblue')\n",
    "plt.title('Top 10 State by Sales')\n",
    "plt.xlabel('State')\n",
    "plt.ylabel('Total Sales')\n",
    "plt.show()"
   ]
  },
  {
   "cell_type": "markdown",
   "id": "25670393-128c-414c-b569-8848befb9074",
   "metadata": {},
   "source": [
    "# Sales by City"
   ]
  },
  {
   "cell_type": "code",
   "execution_count": null,
   "id": "bb5808e7-aff9-412c-89cd-e87ab8227dd9",
   "metadata": {},
   "outputs": [],
   "source": [
    "sales_by_country = df.groupby('Billing city')['Gross sales'].sum().sort_values(ascending=False)\n",
    "plt.figure(figsize=(12, 6))\n",
    "sales_by_country.head(10).plot(kind='bar', color='skyblue')\n",
    "plt.title('Top 10 City by Sales')\n",
    "plt.xlabel('City')\n",
    "plt.ylabel('Total Sales')\n",
    "plt.show()"
   ]
  },
  {
   "cell_type": "code",
   "execution_count": null,
   "id": "9d99924b-bca9-4559-87bd-ef937e2d647f",
   "metadata": {},
   "outputs": [],
   "source": [
    "#Identify Outliers: Use boxplots to identify outliers in numerical columns like Price and Quantity."
   ]
  },
  {
   "cell_type": "code",
   "execution_count": null,
   "id": "2b64a492-641b-45e2-9ad5-62d863a128cb",
   "metadata": {},
   "outputs": [],
   "source": [
    "plt.figure(figsize=(12, 6))\n",
    "sns.boxplot(x=df['Quantity ordered'])\n",
    "plt.title('Boxplot of Quantity')\n",
    "plt.show()\n",
    "\n",
    "plt.figure(figsize=(12, 6))\n",
    "sns.boxplot(x=df['Gross sales'])\n",
    "plt.title('Boxplot of Unit Price')\n",
    "plt.show()\n"
   ]
  },
  {
   "cell_type": "code",
   "execution_count": null,
   "id": "091beb5f-e395-4d64-aea0-93810f8c0bc2",
   "metadata": {},
   "outputs": [],
   "source": [
    "df.describe(include='O')  #info: Provides descriptive statistics for object-type (categorical) columns like count, unique values, most frequent (top) value, and its frequency."
   ]
  },
  {
   "cell_type": "code",
   "execution_count": null,
   "id": "0865ad9c-ad31-4cae-8b29-7a4db119c015",
   "metadata": {},
   "outputs": [],
   "source": [
    "df[df[\"Customer ID\"].isna()].head(10)"
   ]
  },
  {
   "cell_type": "code",
   "execution_count": null,
   "id": "3e57c99e-d7b3-4b22-a887-c3cf7883a173",
   "metadata": {},
   "outputs": [],
   "source": [
    "df[df[\"Quantity ordered\"] < 0].head(10) #checking Negative Quantity"
   ]
  },
  {
   "cell_type": "code",
   "execution_count": null,
   "id": "4bf7b844-bcc3-4aa1-b105-be36a794e8ea",
   "metadata": {},
   "outputs": [],
   "source": [
    "df[\"Order ID\"] = df[\"Order ID\"].astype(\"str\") # short info: Convert 'Invoice' column to string type for string operations.\n",
    "df[df[\"Order ID\"].str.match(\"^\\\\d{15}$\") == False] ## short info: Filter rows with 'Invoice' values that are not exactly 6 digits long."
   ]
  },
  {
   "cell_type": "code",
   "execution_count": null,
   "id": "033faf61-820d-4b67-a5fc-d85bc089bf36",
   "metadata": {},
   "outputs": [],
   "source": [
    "#Replace all digits in 'Invoice' with an empty string and get unique non-numeric values.\n",
    "df[\"Order ID\"].str.replace(\"[0-9]\", \"\", regex=True).unique() "
   ]
  },
  {
   "cell_type": "raw",
   "id": "3e8d704e-a4b9-407a-b87c-07a7de9d7b14",
   "metadata": {},
   "source": [
    "# short info: Filter rows where 'Invoice' values start with the letter 'A'.\n",
    "df[df[\"Order ID\"].str.startswith(\"5\")]"
   ]
  },
  {
   "cell_type": "raw",
   "id": "3b823fed-e315-45d7-b393-4b57a18a9402",
   "metadata": {},
   "source": [
    "# Convert 'StockCode' to string type, then filter for unique 'StockCode' values that are neither exactly 5 digits nor 5 digits followed by letters.\n",
    "df[\"Order ID\"] = df[\"Order ID\"].astype(\"str\").str.zfill(15)\n",
    "df[\"SKU\"] = df[\"SKU\"].astype(\"str\").str.zfill(20)\n",
    "# df[(df[\"SKU\"].str.match(\"^\\\\d{20}$\") == False) & (df[\"SKU\"].str.match(\"^\\\\d{20}[a-zA-Z]+$\") == False)][\"SKU\"].unique()\n",
    "# df[(df[\"SKU\"].str.match(\"^\\\\d{20}$\") == False)][\"SKU\"].unique()"
   ]
  },
  {
   "cell_type": "raw",
   "id": "3c96ae36-bd18-453a-8f7c-c4a514618a51",
   "metadata": {},
   "source": [
    "print(df[\"Order ID\"].str.len().max())\n",
    "print(df[\"Order ID\"].str.len().min())\n",
    "print(df[\"SKU\"].str.len().max())\n",
    "print(df[\"SKU\"].str.len().min())"
   ]
  },
  {
   "cell_type": "code",
   "execution_count": null,
   "id": "ccb4c48b-56ef-4e5c-ba75-3a43c47ab0cb",
   "metadata": {},
   "outputs": [],
   "source": [
    "#finding above funcky stockcode that do not follow pattern with some of do not have customer etc\n",
    "#checking every non match if they imp or not"
   ]
  },
  {
   "cell_type": "code",
   "execution_count": null,
   "id": "108f5571-0c71-4636-8945-21c776e64fef",
   "metadata": {},
   "outputs": [],
   "source": [
    "# df[df[\"SKU\"].str.contains(\"^DOT\")]"
   ]
  },
  {
   "cell_type": "markdown",
   "id": "ade680dd-ad02-4192-8a4c-4f5e1615f0c9",
   "metadata": {},
   "source": [
    "# Data Cleaning "
   ]
  },
  {
   "cell_type": "code",
   "execution_count": null,
   "id": "4b5573e3-5acd-40a9-88c4-1274f7e7ee6e",
   "metadata": {},
   "outputs": [],
   "source": [
    "cleaned_df = df.copy()"
   ]
  },
  {
   "cell_type": "code",
   "execution_count": null,
   "id": "d78fa953-a6bd-48ad-85e9-8abfd8975ca2",
   "metadata": {},
   "outputs": [],
   "source": [
    "# Convert 'Invoice' to string type, create a mask for rows with exactly 6-digit invoices, and filter 'cleaned_df' based on this mask.\n"
   ]
  },
  {
   "cell_type": "raw",
   "id": "28fc6dc3-e506-4edb-9169-e2935ebadd32",
   "metadata": {},
   "source": [
    "cleaned_df[\"Order ID\"] = cleaned_df[\"Order ID\"].astype(\"str\")\n",
    "\n",
    "mask = (\n",
    "    cleaned_df[\"Order ID\"].str.match(\"^\\\\d{15}$\") == True\n",
    ")\n",
    "\n",
    "cleaned_df = cleaned_df[mask]\n",
    "\n",
    "cleaned_df"
   ]
  },
  {
   "cell_type": "raw",
   "id": "d819eed1-4a86-482f-b8d3-bbf087dff2c8",
   "metadata": {},
   "source": [
    "cleaned_df[\"SKU\"] = cleaned_df[\"SKU\"].astype(\"str\")\n",
    "\n",
    "mask = (\n",
    "    (cleaned_df[\"SKU\"].str.match(\"^\\\\d{20}$\") == True)\n",
    "    # | (cleaned_df[\"SKU\"].str.match(\"^\\\\d{20}[a-zA-Z]+$\") == True)\n",
    "    # | (cleaned_df[\"SKU\"].str.match(\"^PADS$\") == True)\n",
    ")\n",
    "\n",
    "cleaned_df = cleaned_df[mask]\n",
    "\n",
    "cleaned_df"
   ]
  },
  {
   "cell_type": "code",
   "execution_count": null,
   "id": "71d4d5de-1c73-4959-b863-5916b27c7a8b",
   "metadata": {},
   "outputs": [],
   "source": [
    "import warnings  # short info: Import the warnings library to control warning messages.\n",
    "warnings.filterwarnings(\"ignore\")  # short info: Suppress all warning messages."
   ]
  },
  {
   "cell_type": "code",
   "execution_count": null,
   "id": "b5b8fd6c-9796-4ebe-a770-7b141afbcf8a",
   "metadata": {},
   "outputs": [],
   "source": [
    "cleaned_df.dropna(subset=[\"Customer ID\"], inplace=True)"
   ]
  },
  {
   "cell_type": "code",
   "execution_count": null,
   "id": "6e3b7922-5699-483e-81ac-a681ab72e1c0",
   "metadata": {},
   "outputs": [],
   "source": [
    "cleaned_df.describe()"
   ]
  },
  {
   "cell_type": "code",
   "execution_count": null,
   "id": "e81f1b2a-ce58-410e-bb9f-6e3f59f1c3c3",
   "metadata": {},
   "outputs": [],
   "source": [
    "# short info: Calculate the number of rows in 'cleaned_df' where the 'Price' column is equal to 0."
   ]
  },
  {
   "cell_type": "code",
   "execution_count": null,
   "id": "6f43f409-edcb-4c05-8389-c1edf5b85f24",
   "metadata": {},
   "outputs": [],
   "source": [
    "len(cleaned_df[cleaned_df[\"Gross sales\"] == 0])"
   ]
  },
  {
   "cell_type": "code",
   "execution_count": null,
   "id": "e3f86d71-b756-456f-b58f-3349e6199fd8",
   "metadata": {},
   "outputs": [],
   "source": [
    "#dealing issue having 0 value"
   ]
  },
  {
   "cell_type": "code",
   "execution_count": null,
   "id": "c5f7ca12-a75a-454a-a4cc-b432f94b0b0b",
   "metadata": {},
   "outputs": [],
   "source": [
    "cleaned_df[\"Gross sales\"].min()"
   ]
  },
  {
   "cell_type": "code",
   "execution_count": null,
   "id": "712ee87c-f828-4825-86d0-2e56ac2b53e9",
   "metadata": {},
   "outputs": [],
   "source": [
    "len(cleaned_df)/len(df) # drop 23 % records for "
   ]
  },
  {
   "cell_type": "code",
   "execution_count": null,
   "id": "b9d06c61-7929-406f-8aec-f5061f758d8f",
   "metadata": {},
   "outputs": [],
   "source": [
    "cleaned_df = cleaned_df[cleaned_df[\"Gross sales\"] > 0.0]"
   ]
  },
  {
   "cell_type": "markdown",
   "id": "6ae76cb1-567e-4fe2-bedc-76170ae40919",
   "metadata": {},
   "source": [
    "# Feature Engineering"
   ]
  },
  {
   "cell_type": "code",
   "execution_count": null,
   "id": "689cb29d-d84b-4deb-bbca-0dd1c1c3fc09",
   "metadata": {},
   "outputs": [],
   "source": [
    "cleaned_df.info()"
   ]
  },
  {
   "cell_type": "code",
   "execution_count": null,
   "id": "4bc60b08-a54c-488e-a230-6339373f72f2",
   "metadata": {},
   "outputs": [],
   "source": [
    "cleaned_df[\"SalesLineTotal\"] = cleaned_df[\"Quantity ordered\"] * cleaned_df[\"Gross sales\"]\n",
    "\n",
    "cleaned_df"
   ]
  },
  {
   "cell_type": "code",
   "execution_count": null,
   "id": "b2fb4930-e02e-4422-ab4c-684531496992",
   "metadata": {},
   "outputs": [],
   "source": [
    "aggregated_df = cleaned_df.groupby(by=\"Customer ID\", as_index=False) \\\n",
    "    .agg(\n",
    "        MonetaryValue=(\"SalesLineTotal\", \"sum\"),\n",
    "        Frequency=(\"Order ID\", \"nunique\"),\n",
    "        LastInvoiceDate=(\"Day\", \"max\")\n",
    "    )\n",
    "\n",
    "aggregated_df.head(5)"
   ]
  },
  {
   "cell_type": "code",
   "execution_count": null,
   "id": "cc98662f-d3a6-4708-b059-6602af19d100",
   "metadata": {},
   "outputs": [],
   "source": [
    "max_invoice_date = aggregated_df[\"LastInvoiceDate\"].max()\n",
    "aggregated_df[\"Recency\"] = (max_invoice_date - aggregated_df[\"LastInvoiceDate\"]).dt.days\n",
    "aggregated_df.head(5)"
   ]
  },
  {
   "cell_type": "markdown",
   "id": "1c4c026d-245d-4e11-a46d-0c68d2552081",
   "metadata": {},
   "source": [
    "# Finding Outlier"
   ]
  },
  {
   "cell_type": "code",
   "execution_count": null,
   "id": "15e8bd9e-f504-464e-9d8b-30f17f11c6e6",
   "metadata": {},
   "outputs": [],
   "source": [
    "# Set the figure size for the entire plot\n",
    "plt.figure(figsize=(15, 5))  # short info: Create a figure with a width of 15 inches and a height of 5 inches.\n",
    "\n",
    "# Subplot 1: Histogram of Monetary Value\n",
    "plt.subplot(1, 3, 1)  # short info: Create a 1x3 grid of subplots, and select the 1st subplot.\n",
    "plt.hist(aggregated_df['MonetaryValue'], bins=10, color='skyblue', edgecolor='black')  # short info: Create a histogram for 'MonetaryValue' with 10 bins.\n",
    "plt.title('Monetary Value Distribution')  # short info: Set the title for the first subplot.\n",
    "plt.xlabel('Monetary Value')  # short info: Label the x-axis.\n",
    "plt.ylabel('Count')  # short info: Label the y-axis.\n",
    "\n",
    "# Subplot 2: Histogram of Frequency\n",
    "plt.subplot(1, 3, 2)  # short info: Select the 2nd subplot in the 1x3 grid.\n",
    "plt.hist(aggregated_df['Frequency'], bins=10, color='lightgreen', edgecolor='black')  # short info: Create a histogram for 'Frequency' with 10 bins.\n",
    "plt.title('Frequency Distribution')  # short info: Set the title for the second subplot.\n",
    "plt.xlabel('Frequency')  # short info: Label the x-axis.\n",
    "plt.ylabel('Count')  # short info: Label the y-axis.\n",
    "\n",
    "# Subplot 3: Histogram of Recency\n",
    "plt.subplot(1, 3, 3)  # short info: Select the 3rd subplot in the 1x3 grid.\n",
    "plt.hist(aggregated_df['Recency'], bins=20, color='salmon', edgecolor='black')  # short info: Create a histogram for 'Recency' with 20 bins.\n",
    "plt.title('Recency Distribution')  # short info: Set the title for the third subplot.\n",
    "plt.xlabel('Recency')  # short info: Label the x-axis.\n",
    "plt.ylabel('Count')  # short info: Label the y-axis.\n",
    "\n",
    "plt.tight_layout()  # short info: Adjust subplot parameters to give specified padding for a cleaner layout.\n",
    "plt.show()  # short info: Display the plots.\n"
   ]
  },
  {
   "cell_type": "code",
   "execution_count": null,
   "id": "045b1ae6-fd9c-4245-9976-ed592793d3f5",
   "metadata": {},
   "outputs": [],
   "source": [
    "# Set the figure size for the entire plot\n",
    "plt.figure(figsize=(15, 5))  # short info: Create a figure with a width of 15 inches and a height of 5 inches.\n",
    "\n",
    "# Subplot 1: Boxplot of Monetary Value\n",
    "plt.subplot(1, 3, 1)  # short info: Create a 1x3 grid of subplots, and select the 1st subplot.\n",
    "sns.boxplot(data=aggregated_df['MonetaryValue'], color='skyblue')  # short info: Create a boxplot for 'MonetaryValue'.\n",
    "plt.title('Monetary Value Boxplot')  # short info: Set the title for the first subplot.\n",
    "plt.xlabel('Monetary Value')  # short info: Label the x-axis.\n",
    "\n",
    "# Subplot 2: Boxplot of Frequency\n",
    "plt.subplot(1, 3, 2)  # short info: Select the 2nd subplot in the 1x3 grid.\n",
    "sns.boxplot(data=aggregated_df['Frequency'], color='lightgreen')  # short info: Create a boxplot for 'Frequency'.\n",
    "plt.title('Frequency Boxplot')  # short info: Set the title for the second subplot.\n",
    "plt.xlabel('Frequency')  # short info: Label the x-axis.\n",
    "\n",
    "# Subplot 3: Boxplot of Recency\n",
    "plt.subplot(1, 3, 3)  # short info: Select the 3rd subplot in the 1x3 grid.\n",
    "sns.boxplot(data=aggregated_df['Recency'], color='salmon')  # short info: Create a boxplot for 'Recency'.\n",
    "plt.title('Recency Boxplot')  # short info: Set the title for the third subplot.\n",
    "plt.xlabel('Recency')  # short info: Label the x-axis.\n",
    "\n",
    "plt.tight_layout()  # short info: Adjust subplot parameters to give specified padding for a cleaner layout.\n",
    "plt.show()  # short info: Display the plots.\n"
   ]
  },
  {
   "cell_type": "markdown",
   "id": "ff8f3e0a-7591-4315-9ec0-c1def81bbb2d",
   "metadata": {},
   "source": [
    "# Monetay and Freq have high outlier"
   ]
  },
  {
   "cell_type": "markdown",
   "id": "449949c7-dc2e-4c08-be6f-2afc592b506b",
   "metadata": {},
   "source": [
    "## Establishing IQR"
   ]
  },
  {
   "cell_type": "code",
   "execution_count": null,
   "id": "a4b36b22-fe73-48aa-8d97-f78d12f9e932",
   "metadata": {},
   "outputs": [],
   "source": [
    "M_Q1 = aggregated_df[\"MonetaryValue\"].quantile(0.25)\n",
    "M_Q3 = aggregated_df[\"MonetaryValue\"].quantile(0.75)\n",
    "M_IQR = M_Q3 - M_Q1\n",
    "\n",
    "monetary_outliers_df = aggregated_df[(aggregated_df[\"MonetaryValue\"] > (M_Q3 + 1.5 * M_IQR)) | (aggregated_df[\"MonetaryValue\"] < (M_Q1 - 1.5 * M_IQR))].copy()\n",
    "#short conclusion: This code creates a new DataFrame, 'monetary_outliers_df', containing rows from 'aggregated_df'\n",
    "#where 'MonetaryValue' values are considered outliers, defined as being greater than 1.5 times the interquartile range (IQR) \n",
    "#above the third quartile (Q3) or below 1.5 times the IQR below the first quartile (Q1).\n",
    "\n",
    "monetary_outliers_df.describe()"
   ]
  },
  {
   "cell_type": "code",
   "execution_count": null,
   "id": "9b908185-8b86-4063-bc99-807dbcf18e32",
   "metadata": {},
   "outputs": [],
   "source": [
    "F_Q1 = aggregated_df['Frequency'].quantile(0.25)\n",
    "F_Q3 = aggregated_df['Frequency'].quantile(0.75)\n",
    "F_IQR = F_Q3 - F_Q1\n",
    "\n",
    "frequency_outliers_df = aggregated_df[(aggregated_df['Frequency'] > (F_Q3 + 1.5 * F_IQR)) | (aggregated_df['Frequency'] < (F_Q1 - 1.5 * F_IQR))].copy()\n",
    "\n",
    "frequency_outliers_df.describe()"
   ]
  },
  {
   "cell_type": "code",
   "execution_count": null,
   "id": "1648f50e-beb9-4331-8376-94bc3548e7eb",
   "metadata": {},
   "outputs": [],
   "source": [
    "# This code creates a new DataFrame, 'non_outliers_df', by filtering out rows from 'aggregated_df' that are present in either 'monetary_outliers_df' or 'frequency_outliers_df'. \n",
    "#It then provides descriptive statistics for the resulting DataFrame, summarizing the central tendency, dispersion, and shape of the dataset's distribution for non-outlier values.\n",
    "\n",
    "non_outliers_df = aggregated_df[(~aggregated_df.index.isin(monetary_outliers_df.index)) & (~aggregated_df.index.isin(frequency_outliers_df.index))]\n",
    "\n",
    "non_outliers_df.describe()"
   ]
  },
  {
   "cell_type": "markdown",
   "id": "3c724500-3153-4ea1-90b1-5a66889a551d",
   "metadata": {},
   "source": [
    "# Replot boxplot using Non Outlier"
   ]
  },
  {
   "cell_type": "code",
   "execution_count": null,
   "id": "001b4806-84fd-4a2e-b8b9-8945d3d62ca2",
   "metadata": {},
   "outputs": [],
   "source": [
    "plt.figure(figsize=(15, 5))\n",
    "\n",
    "plt.subplot(1, 3, 1)\n",
    "sns.boxplot(data=non_outliers_df['MonetaryValue'], color='skyblue')\n",
    "plt.title('Monetary Value Boxplot')\n",
    "plt.xlabel('Monetary Value')\n",
    "\n",
    "plt.subplot(1, 3, 2)\n",
    "sns.boxplot(data=non_outliers_df['Frequency'], color='lightgreen')\n",
    "plt.title('Frequency Boxplot')\n",
    "plt.xlabel('Frequency')\n",
    "\n",
    "plt.subplot(1, 3, 3)\n",
    "sns.boxplot(data=non_outliers_df['Recency'], color='salmon')\n",
    "plt.title('Recency Boxplot')\n",
    "plt.xlabel('Recency')\n",
    "\n",
    "plt.tight_layout()\n",
    "plt.show()"
   ]
  },
  {
   "cell_type": "code",
   "execution_count": null,
   "id": "cc0318f4-350a-46be-9077-7e325b67b7f2",
   "metadata": {},
   "outputs": [],
   "source": [
    "fig = plt.figure(figsize=(8, 8))\n",
    "\n",
    "ax = fig.add_subplot(projection=\"3d\")\n",
    "\n",
    "scatter = ax.scatter(non_outliers_df[\"MonetaryValue\"], non_outliers_df[\"Frequency\"], non_outliers_df[\"Recency\"])\n",
    "\n",
    "ax.set_xlabel('Monetary Value')\n",
    "ax.set_ylabel('Frequency')\n",
    "ax.set_zlabel('Recency')\n",
    "\n",
    "ax.set_title('3D Scatter Plot of Customer Data')\n",
    "\n",
    "plt.show()"
   ]
  },
  {
   "cell_type": "code",
   "execution_count": null,
   "id": "4470420c-ec18-4e39-a729-6cb71ce53e6b",
   "metadata": {},
   "outputs": [],
   "source": [
    "scaler = StandardScaler()\n",
    "\n",
    "scaled_data = scaler.fit_transform(non_outliers_df[[\"MonetaryValue\", \"Frequency\", \"Recency\"]])\n",
    "\n",
    "scaled_data"
   ]
  },
  {
   "cell_type": "code",
   "execution_count": null,
   "id": "694236ec-3063-406e-8968-70e4588753fb",
   "metadata": {},
   "outputs": [],
   "source": [
    "scaled_data_df = pd.DataFrame(scaled_data, index=non_outliers_df.index, columns=(\"MonetaryValue\", \"Frequency\", \"Recency\"))\n",
    "\n",
    "scaled_data_df"
   ]
  },
  {
   "cell_type": "code",
   "execution_count": null,
   "id": "402f2684-4939-4efa-bd1c-698982dd6568",
   "metadata": {},
   "outputs": [],
   "source": [
    "fig = plt.figure(figsize=(8, 8))\n",
    "\n",
    "ax = fig.add_subplot(projection=\"3d\")\n",
    "\n",
    "scatter = ax.scatter(scaled_data_df[\"MonetaryValue\"], scaled_data_df[\"Frequency\"], scaled_data_df[\"Recency\"])\n",
    "\n",
    "ax.set_xlabel('Monetary Value')\n",
    "ax.set_ylabel('Frequency')\n",
    "ax.set_zlabel('Recency')\n",
    "\n",
    "ax.set_title('3D Scatter Plot of Customer Data')\n",
    "\n",
    "plt.show()"
   ]
  },
  {
   "cell_type": "code",
   "execution_count": null,
   "id": "83d484fc-34eb-4e12-b165-0958933c48df",
   "metadata": {},
   "outputs": [],
   "source": [
    "max_k = 12\n",
    "\n",
    "inertia = []\n",
    "silhoutte_scores = []\n",
    "k_values = range(2, max_k + 1)\n",
    "\n",
    "for k in k_values:\n",
    "\n",
    "    kmeans = KMeans(n_clusters=k, random_state=42, max_iter=1000)\n",
    "\n",
    "    cluster_labels = kmeans.fit_predict(scaled_data_df)\n",
    "\n",
    "    sil_score = silhouette_score(scaled_data_df, cluster_labels)\n",
    "\n",
    "    silhoutte_scores.append(sil_score)\n",
    "\n",
    "    inertia.append(kmeans.inertia_)\n",
    "\n",
    "plt.figure(figsize=(14, 6))\n",
    "\n",
    "plt.subplot(1, 2, 1)\n",
    "plt.plot(k_values, inertia, marker='o')\n",
    "plt.title('KMeans Inertia for Different Values of k')\n",
    "plt.xlabel('Number of Clusters (k)')\n",
    "plt.ylabel('Inertia')\n",
    "plt.xticks(k_values)\n",
    "plt.grid(True)\n",
    "\n",
    "plt.subplot(1, 2, 2)\n",
    "plt.plot(k_values, silhoutte_scores, marker='o', color='orange')\n",
    "plt.title('Silhouette Scores for Different Values of k')\n",
    "plt.xlabel('Number of Clusters (k)')\n",
    "plt.ylabel('Silhouette Score')\n",
    "plt.xticks(k_values)\n",
    "plt.grid(True)\n",
    "\n",
    "plt.tight_layout()\n",
    "plt.show()"
   ]
  },
  {
   "cell_type": "markdown",
   "id": "e6cb3f12-02d4-4956-a2c8-0cc080b5ea99",
   "metadata": {},
   "source": [
    "# Silhouette Score"
   ]
  },
  {
   "cell_type": "code",
   "execution_count": null,
   "id": "7a14856c-c8bf-4668-a0c0-17ebb617d1f5",
   "metadata": {},
   "outputs": [],
   "source": [
    "kmeans = KMeans(n_clusters=4, random_state=42, max_iter=1000)\n",
    "\n",
    "cluster_labels = kmeans.fit_predict(scaled_data_df)\n",
    "\n",
    "cluster_labels"
   ]
  },
  {
   "cell_type": "code",
   "execution_count": null,
   "id": "4949ecb3-db7e-482c-9315-2de0f356a53e",
   "metadata": {},
   "outputs": [],
   "source": [
    "non_outliers_df[\"Cluster\"] = cluster_labels\n",
    "\n",
    "non_outliers_df"
   ]
  },
  {
   "cell_type": "code",
   "execution_count": null,
   "id": "9c50db8d-f009-4823-8578-35ee121011e0",
   "metadata": {},
   "outputs": [],
   "source": [
    "cluster_colors = {0: '#1f77b4',  # Blue\n",
    "                  1: '#ff7f0e',  # Orange\n",
    "                  2: '#2ca02c',  # Green\n",
    "                  3: '#d62728'}  # Red\n",
    "\n",
    "colors = non_outliers_df['Cluster'].map(cluster_colors)\n",
    "\n",
    "fig = plt.figure(figsize=(10, 10))\n",
    "ax = fig.add_subplot(projection='3d')\n",
    "\n",
    "scatter = ax.scatter(non_outliers_df['MonetaryValue'], \n",
    "                     non_outliers_df['Frequency'], \n",
    "                     non_outliers_df['Recency'], \n",
    "                     c=colors,  # Use mapped solid colors\n",
    "                     marker='o')\n",
    "\n",
    "ax.set_xlabel('Monetary Value')\n",
    "ax.set_ylabel('Frequency')\n",
    "ax.set_zlabel('Recency')\n",
    "\n",
    "ax.set_title('3D Scatter Plot of Customer Data by Cluster')\n",
    "\n",
    "plt.show()"
   ]
  },
  {
   "cell_type": "code",
   "execution_count": null,
   "id": "475e9c87-c373-45b9-905e-f8368a2a69f6",
   "metadata": {},
   "outputs": [],
   "source": [
    "plt.figure(figsize=(12, 18))\n",
    "\n",
    "plt.subplot(3, 1, 1)\n",
    "sns.violinplot(x=non_outliers_df['Cluster'], y=non_outliers_df['MonetaryValue'], palette=cluster_colors, hue=non_outliers_df[\"Cluster\"])\n",
    "sns.violinplot(y=non_outliers_df['MonetaryValue'], color='gray', linewidth=1.0)\n",
    "plt.title('Monetary Value by Cluster')\n",
    "plt.ylabel('Monetary Value')\n",
    "\n",
    "plt.subplot(3, 1, 2)\n",
    "sns.violinplot(x=non_outliers_df['Cluster'], y=non_outliers_df['Frequency'], palette=cluster_colors, hue=non_outliers_df[\"Cluster\"])\n",
    "sns.violinplot(y=non_outliers_df['Frequency'], color='gray', linewidth=1.0)\n",
    "plt.title('Frequency by Cluster')\n",
    "plt.ylabel('Frequency')\n",
    "\n",
    "\n",
    "plt.subplot(3, 1, 3)\n",
    "sns.violinplot(x=non_outliers_df['Cluster'], y=non_outliers_df['Recency'], palette=cluster_colors, hue=non_outliers_df[\"Cluster\"])\n",
    "sns.violinplot(y=non_outliers_df['Recency'], color='gray', linewidth=1.0)\n",
    "plt.title('Recency by Cluster')\n",
    "plt.ylabel('Recency')\n",
    "\n",
    "plt.tight_layout()\n",
    "plt.show()"
   ]
  },
  {
   "cell_type": "markdown",
   "id": "903815e9-f125-4dea-9042-c908a9411639",
   "metadata": {},
   "source": [
    "### Customer Segmentation Clusters\n",
    "\n",
    "#### Cluster 0 (Blue): \"Retain\"\n",
    "- **Rationale**: This cluster represents high-value customers who purchase regularly, though not always very recently. The focus should be on retention efforts to maintain their loyalty and spending levels.\n",
    "- **Action**: Implement loyalty programs, personalized offers, and regular engagement to ensure they remain active.\n",
    "\n",
    "---\n",
    "\n",
    "#### Cluster 1 (Orange): \"Re-Engage\"\n",
    "- **Rationale**: This group includes lower-value, infrequent buyers who haven’t purchased recently. The focus should be on re-engagement to bring them back into active purchasing behavior.\n",
    "- **Action**: Use targeted marketing campaigns, special discounts, or reminders to encourage them to return and purchase again.\n",
    "\n",
    "---\n",
    "\n",
    "#### Cluster 2 (Green): \"Nurture\"\n",
    "- **Rationale**: This cluster represents the least active and lowest-value customers, but they have made recent purchases. These customers may be new or need nurturing to increase their engagement and spending.\n",
    "- **Action**: Focus on building relationships, providing excellent customer service, and offering incentives to encourage more frequent purchases.\n",
    "\n",
    "---\n",
    "\n",
    "#### Cluster 3 (Red): \"Reward\"\n",
    "- **Rationale**: This cluster includes high-value, very frequent buyers, many of whom are still actively purchasing. They are your most loyal customers, and rewarding their loyalty is key to maintaining their engagement.\n",
    "- **Action**: Implement a robust loyalty program, provide exclusive offers, and recognize their loyalty to keep them engaged and satisfied.\n",
    "\n",
    "---\n",
    "\n",
    "### Summary of Cluster Names:\n",
    "- **Cluster 0 (Blue)**: \"Retain\"\n",
    "- **Cluster 1 (Orange)**: \"Re-Engage\"\n",
    "- **Cluster 2 (Green)**: \"Nurture\"\n",
    "- **Cluster 3 (Red)**: \"Reward\"\n"
   ]
  },
  {
   "cell_type": "code",
   "execution_count": null,
   "id": "05084a6b-1ec2-4655-bf47-ed0bf5ca4b8a",
   "metadata": {},
   "outputs": [],
   "source": [
    "overlap_indices = monetary_outliers_df.index.intersection(frequency_outliers_df.index)\n",
    "\n",
    "monetary_only_outliers = monetary_outliers_df.drop(overlap_indices)\n",
    "frequency_only_outliers = frequency_outliers_df.drop(overlap_indices)\n",
    "monetary_and_frequency_outliers = monetary_outliers_df.loc[overlap_indices]\n",
    "\n",
    "monetary_only_outliers[\"Cluster\"] = -1\n",
    "frequency_only_outliers[\"Cluster\"] = -2\n",
    "monetary_and_frequency_outliers[\"Cluster\"] = -3\n",
    "\n",
    "outlier_clusters_df = pd.concat([monetary_only_outliers, frequency_only_outliers, monetary_and_frequency_outliers])\n",
    "\n",
    "outlier_clusters_df"
   ]
  },
  {
   "cell_type": "code",
   "execution_count": null,
   "id": "d3bcbf26-2ad3-4e5a-9616-34ce450699f6",
   "metadata": {},
   "outputs": [],
   "source": [
    "cluster_colors = {-1: '#9467bd',\n",
    "                  -2: '#8c564b',\n",
    "                  -3: '#e377c2'}\n",
    "\n",
    "plt.figure(figsize=(12, 18))\n",
    "\n",
    "plt.subplot(3, 1, 1)\n",
    "sns.violinplot(x=outlier_clusters_df['Cluster'], y=outlier_clusters_df['MonetaryValue'], palette=cluster_colors, hue=outlier_clusters_df[\"Cluster\"])\n",
    "sns.violinplot(y=outlier_clusters_df['MonetaryValue'], color='gray', linewidth=1.0)\n",
    "plt.title('Monetary Value by Cluster')\n",
    "plt.ylabel('Monetary Value')\n",
    "\n",
    "plt.subplot(3, 1, 2)\n",
    "sns.violinplot(x=outlier_clusters_df['Cluster'], y=outlier_clusters_df['Frequency'], palette=cluster_colors, hue=outlier_clusters_df[\"Cluster\"])\n",
    "sns.violinplot(y=outlier_clusters_df['Frequency'], color='gray', linewidth=1.0)\n",
    "plt.title('Frequency by Cluster')\n",
    "plt.ylabel('Frequency')\n",
    "\n",
    "plt.subplot(3, 1, 3)\n",
    "sns.violinplot(x=outlier_clusters_df['Cluster'], y=outlier_clusters_df['Recency'], palette=cluster_colors, hue=outlier_clusters_df[\"Cluster\"])\n",
    "sns.violinplot(y=outlier_clusters_df['Recency'], color='gray', linewidth=1.0)\n",
    "plt.title('Recency by Cluster')\n",
    "plt.ylabel('Recency')\n",
    "\n",
    "plt.tight_layout()\n",
    "plt.show()"
   ]
  },
  {
   "cell_type": "markdown",
   "id": "8d7ca888-3f96-46aa-8572-2c310c4e0ebb",
   "metadata": {},
   "source": [
    "### Customer Segmentation Outlier Clusters\n",
    "\n",
    "#### Cluster -1 (Monetary Outliers): \"PAMPER\"\n",
    "- **Characteristics**: High spenders but not necessarily frequent buyers. Their purchases are large but infrequent.\n",
    "- **Potential Strategy**: Focus on maintaining their loyalty with personalized offers or luxury services that cater to their high spending capacity.\n",
    "\n",
    "---\n",
    "\n",
    "#### Cluster -2 (Frequency Outliers): \"UPSELL\"\n",
    "- **Characteristics**: Frequent buyers who spend less per purchase. These customers are consistently engaged but might benefit from upselling opportunities.\n",
    "- **Potential Strategy**: Implement loyalty programs or bundle deals to encourage higher spending per visit, given their frequent engagement.\n",
    "\n",
    "---\n",
    "\n",
    "#### Cluster -3 (Monetary & Frequency Outliers): \"DELIGHT\"\n",
    "- **Characteristics**: The most valuable outliers, with extreme spending and frequent purchases. They are likely your top-tier customers who require special attention.\n",
    "- **Potential Strategy**: Develop VIP programs or exclusive offers to maintain their loyalty and encourage continued engagement.\n"
   ]
  },
  {
   "cell_type": "code",
   "execution_count": null,
   "id": "510f6823-f56f-45a1-af2a-ab698cab9846",
   "metadata": {},
   "outputs": [],
   "source": [
    "cluster_labels = {\n",
    "    0: \"RETAIN\",\n",
    "    1: \"RE-ENGAGE\",\n",
    "    2: \"NURTURE\",\n",
    "    3: \"REWARD\",\n",
    "    -1: \"PAMPER\",\n",
    "    -2: \"UPSELL\",\n",
    "    -3: \"DELIGHT\"\n",
    "}"
   ]
  },
  {
   "cell_type": "code",
   "execution_count": null,
   "id": "f8f06dde-ed33-43f8-80db-ad3fa2c0ffa2",
   "metadata": {},
   "outputs": [],
   "source": [
    "full_clustering_df = pd.concat([non_outliers_df, outlier_clusters_df])\n",
    "\n",
    "full_clustering_df"
   ]
  },
  {
   "cell_type": "code",
   "execution_count": null,
   "id": "c6dc6efb-0b26-4560-b3c5-08af9f071b94",
   "metadata": {},
   "outputs": [],
   "source": [
    "full_clustering_df[\"ClusterLabel\"] = full_clustering_df[\"Cluster\"].map(cluster_labels)\n",
    "\n",
    "full_clustering_df"
   ]
  },
  {
   "cell_type": "markdown",
   "id": "2cbd9323-2034-4143-becb-480b1fcc11d0",
   "metadata": {},
   "source": [
    "# Visualization"
   ]
  },
  {
   "cell_type": "code",
   "execution_count": null,
   "id": "043812b4-ed3b-4a14-a1e5-1b034f9073c7",
   "metadata": {},
   "outputs": [],
   "source": [
    "cluster_counts = full_clustering_df['ClusterLabel'].value_counts()\n",
    "full_clustering_df[\"MonetaryValue per 100 pounds\"] = full_clustering_df[\"MonetaryValue\"] / 100.00\n",
    "feature_means = full_clustering_df.groupby('ClusterLabel')[['Recency', 'Frequency', 'MonetaryValue per 100 pounds']].mean()\n",
    "\n",
    "fig, ax1 = plt.subplots(figsize=(12, 8))\n",
    "\n",
    "sns.barplot(x=cluster_counts.index, y=cluster_counts.values, ax=ax1, palette='viridis', hue=cluster_counts.index)\n",
    "ax1.set_ylabel('Number of Customers', color='b')\n",
    "ax1.set_title('Cluster Distribution with Average Feature Values')\n",
    "\n",
    "ax2 = ax1.twinx()\n",
    "\n",
    "sns.lineplot(data=feature_means, ax=ax2, palette='Set2', marker='o')\n",
    "ax2.set_ylabel('Average Value', color='g')\n",
    "\n",
    "plt.show()"
   ]
  },
  {
   "cell_type": "code",
   "execution_count": null,
   "id": "8aecaaf1-9b62-4619-a827-2e7be08a21fc",
   "metadata": {},
   "outputs": [],
   "source": []
  }
 ],
 "metadata": {
  "kernelspec": {
   "display_name": ".venv",
   "language": "python",
   "name": ".venv"
  },
  "language_info": {
   "codemirror_mode": {
    "name": "ipython",
    "version": 3
   },
   "file_extension": ".py",
   "mimetype": "text/x-python",
   "name": "python",
   "nbconvert_exporter": "python",
   "pygments_lexer": "ipython3",
   "version": "3.11.12"
  }
 },
 "nbformat": 4,
 "nbformat_minor": 5
}
